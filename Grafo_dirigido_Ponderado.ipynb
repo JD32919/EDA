{
  "nbformat": 4,
  "nbformat_minor": 0,
  "metadata": {
    "colab": {
      "provenance": [],
      "authorship_tag": "ABX9TyNTNxgToo5+tH9OBcS3gHuw",
      "include_colab_link": true
    },
    "kernelspec": {
      "name": "python3",
      "display_name": "Python 3"
    },
    "language_info": {
      "name": "python"
    }
  },
  "cells": [
    {
      "cell_type": "markdown",
      "metadata": {
        "id": "view-in-github",
        "colab_type": "text"
      },
      "source": [
        "<a href=\"https://colab.research.google.com/github/JD32919/EDA/blob/main/Grafo_dirigido_Ponderado.ipynb\" target=\"_parent\"><img src=\"https://colab.research.google.com/assets/colab-badge.svg\" alt=\"Open In Colab\"/></a>"
      ]
    },
    {
      "cell_type": "code",
      "execution_count": 1,
      "metadata": {
        "colab": {
          "base_uri": "https://localhost:8080/"
        },
        "id": "NmX4qdMaf8Re",
        "outputId": "57ea87b4-bdaa-4565-dbe7-5ad595bdbf55"
      },
      "outputs": [
        {
          "output_type": "stream",
          "name": "stdout",
          "text": [
            "Lista de Adyacencia Ponderada:\n",
            "A: [('B', 5), ('C', 3)]\n",
            "B: [('D', 4)]\n",
            "C: [('E', 7)]\n",
            "D: [('F', 1)]\n",
            "E: [('F', 6)]\n",
            "F: [('G', 2)]\n",
            "G: [('H', 8)]\n",
            "H: [('I', 9)]\n",
            "I: [('J', 3)]\n",
            "J: []\n",
            "Matriz de Adyacencia Ponderada:\n",
            "[0, 5, 3, 0, 0, 0, 0, 0, 0, 0]\n",
            "[0, 0, 0, 4, 0, 0, 0, 0, 0, 0]\n",
            "[0, 0, 0, 0, 7, 0, 0, 0, 0, 0]\n",
            "[0, 0, 0, 0, 0, 1, 0, 0, 0, 0]\n",
            "[0, 0, 0, 0, 0, 6, 0, 0, 0, 0]\n",
            "[0, 0, 0, 0, 0, 0, 2, 0, 0, 0]\n",
            "[0, 0, 0, 0, 0, 0, 0, 8, 0, 0]\n",
            "[0, 0, 0, 0, 0, 0, 0, 0, 9, 0]\n",
            "[0, 0, 0, 0, 0, 0, 0, 0, 0, 3]\n",
            "[0, 0, 0, 0, 0, 0, 0, 0, 0, 0]\n",
            "Imagen del grafo dirigido ponderado generada: grafo_dirigido_ponderado.png\n"
          ]
        }
      ],
      "source": [
        "# Importamos la librería graphviz\n",
        "from graphviz import Digraph  # Digraph para grafos dirigidos\n",
        "\n",
        "class Grafo:\n",
        "    def __init__(self):\n",
        "        # Diccionario para la lista de adyacencia, almacenamos pesos\n",
        "        self.adyacencia = {}\n",
        "\n",
        "    def agregar_vertice(self, vertice):\n",
        "        if vertice not in self.adyacencia:\n",
        "            self.adyacencia[vertice] = []\n",
        "\n",
        "    def agregar_arista(self, vertice1, vertice2, peso):\n",
        "        if vertice1 in self.adyacencia and vertice2 in self.adyacencia:\n",
        "            # Almacenamos el vértice destino junto con el peso\n",
        "            self.adyacencia[vertice1].append((vertice2, peso))\n",
        "\n",
        "    def remover_vertice(self, vertice):\n",
        "        if vertice in self.adyacencia:\n",
        "            del self.adyacencia[vertice]\n",
        "            for vecinos in self.adyacencia.values():\n",
        "                vecinos[:] = [(v, p) for v, p in vecinos if v != vertice]\n",
        "\n",
        "    def imprimir_matriz_adyacencia(self):\n",
        "        vertices = list(self.adyacencia.keys())\n",
        "        matriz = [[0] * len(vertices) for _ in range(len(vertices))]\n",
        "        for i, vertice1 in enumerate(vertices):\n",
        "            for vertice2, peso in self.adyacencia[vertice1]:\n",
        "                j = vertices.index(vertice2)\n",
        "                matriz[i][j] = peso\n",
        "        print(\"Matriz de Adyacencia Ponderada:\")\n",
        "        for fila in matriz:\n",
        "            print(fila)\n",
        "\n",
        "    def imprimir_lista_adyacencia(self):\n",
        "        print(\"Lista de Adyacencia Ponderada:\")\n",
        "        for vertice, vecinos in self.adyacencia.items():\n",
        "            print(f\"{vertice}: {vecinos}\")\n",
        "\n",
        "    def generar_imagen(self, nombre_archivo=\"grafo_dirigido_ponderado\"):\n",
        "        # Crear un nuevo grafo dirigido con aristas ponderadas\n",
        "        g = Digraph(format='png')\n",
        "        for vertice, vecinos in self.adyacencia.items():\n",
        "            for vecino, peso in vecinos:\n",
        "                # Incluir el peso en la etiqueta del borde\n",
        "                g.edge(vertice, vecino, label=str(peso))\n",
        "        # Guardar y renderizar la imagen del grafo\n",
        "        archivo_salida = f\"{nombre_archivo}\"\n",
        "        g.render(archivo_salida, cleanup=True)\n",
        "        print(f\"Imagen del grafo dirigido ponderado generada: {archivo_salida}.png\")\n",
        "\n",
        "# Crear una instancia del grafo\n",
        "grafo = Grafo()\n",
        "\n",
        "# Añadir vértices\n",
        "grafo.agregar_vertice(\"A\")\n",
        "grafo.agregar_vertice(\"B\")\n",
        "grafo.agregar_vertice(\"C\")\n",
        "grafo.agregar_vertice(\"D\")\n",
        "grafo.agregar_vertice(\"E\")\n",
        "grafo.agregar_vertice(\"F\")\n",
        "grafo.agregar_vertice(\"G\")\n",
        "grafo.agregar_vertice(\"H\")\n",
        "grafo.agregar_vertice(\"I\")\n",
        "grafo.agregar_vertice(\"J\")\n",
        "\n",
        "# Añadir aristas dirigidas con pesos\n",
        "grafo.agregar_arista(\"A\", \"B\", 5)\n",
        "grafo.agregar_arista(\"A\", \"C\", 3)\n",
        "grafo.agregar_arista(\"B\", \"D\", 4)\n",
        "grafo.agregar_arista(\"C\", \"E\", 7)\n",
        "grafo.agregar_arista(\"D\", \"F\", 1)\n",
        "grafo.agregar_arista(\"E\", \"F\", 6)\n",
        "grafo.agregar_arista(\"F\", \"G\", 2)\n",
        "grafo.agregar_arista(\"G\", \"H\", 8)\n",
        "grafo.agregar_arista(\"H\", \"I\", 9)\n",
        "grafo.agregar_arista(\"I\", \"J\", 3)\n",
        "\n",
        "# Imprimir lista de adyacencia y matriz de adyacencia ponderadas\n",
        "grafo.imprimir_lista_adyacencia()\n",
        "grafo.imprimir_matriz_adyacencia()\n",
        "\n",
        "# Generar la imagen del grafo dirigido ponderado\n",
        "grafo.generar_imagen(\"grafo_dirigido_ponderado\")\n"
      ]
    }
  ]
}