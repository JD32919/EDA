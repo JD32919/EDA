{
  "nbformat": 4,
  "nbformat_minor": 0,
  "metadata": {
    "colab": {
      "private_outputs": true,
      "provenance": [],
      "authorship_tag": "ABX9TyPnRxmU6NfEK7MX0chZEVmz",
      "include_colab_link": true
    },
    "kernelspec": {
      "name": "python3",
      "display_name": "Python 3"
    },
    "language_info": {
      "name": "python"
    }
  },
  "cells": [
    {
      "cell_type": "markdown",
      "metadata": {
        "id": "view-in-github",
        "colab_type": "text"
      },
      "source": [
        "<a href=\"https://colab.research.google.com/github/JD32919/EDA/blob/main/Merge_sort_with_Buble_sort.ipynb\" target=\"_parent\"><img src=\"https://colab.research.google.com/assets/colab-badge.svg\" alt=\"Open In Colab\"/></a>"
      ]
    },
    {
      "cell_type": "code",
      "execution_count": null,
      "metadata": {
        "id": "ilSBnw0XGMZc"
      },
      "outputs": [],
      "source": [
        "import random\n",
        "\n",
        "\n",
        "def bubble_sort(array):\n",
        "    n = len(array)\n",
        "    for i in range(n - 1):\n",
        "        for j in range(n - 1 - i):\n",
        "            if array[j] > array[j + 1]:\n",
        "                array[j], array[j + 1] = array[j + 1], array[j]\n",
        "\n",
        "\n",
        "def merge_sort(array):\n",
        "\n",
        "    if len(array) <= 10:\n",
        "        bubble_sort(array)\n",
        "    else:\n",
        "        mid = len(array) // 2\n",
        "        left_half = array[:mid]\n",
        "        right_half = array[mid:]\n",
        "\n",
        "\n",
        "        merge_sort(left_half)\n",
        "        merge_sort(right_half)\n",
        "\n",
        "\n",
        "        i = j = k = 0\n",
        "\n",
        "        while i < len(left_half) and j < len(right_half):\n",
        "            if left_half[i] < right_half[j]:\n",
        "                array[k] = left_half[i]\n",
        "                i += 1\n",
        "            else:\n",
        "                array[k] = right_half[j]\n",
        "                j += 1\n",
        "            k += 1\n",
        "\n",
        "        while i < len(left_half):\n",
        "            array[k] = left_half[i]\n",
        "            i += 1\n",
        "            k += 1\n",
        "\n",
        "        while j < len(right_half):\n",
        "            array[k] = right_half[j]\n",
        "            j += 1\n",
        "            k += 1\n",
        "\n",
        "\n",
        "array = [random.randint(0, 10000) for _ in range(1000)]\n",
        "\n",
        "\n",
        "print(array)\n",
        "\n",
        "\n",
        "merge_sort(array)\n",
        "\n",
        "\n",
        "print(array)\n",
        "\n"
      ]
    }
  ]
}