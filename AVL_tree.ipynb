{
  "nbformat": 4,
  "nbformat_minor": 0,
  "metadata": {
    "colab": {
      "provenance": [],
      "authorship_tag": "ABX9TyNsL66K3CW8JdZ0o4/krE9X",
      "include_colab_link": true
    },
    "kernelspec": {
      "name": "python3",
      "display_name": "Python 3"
    },
    "language_info": {
      "name": "python"
    }
  },
  "cells": [
    {
      "cell_type": "markdown",
      "metadata": {
        "id": "view-in-github",
        "colab_type": "text"
      },
      "source": [
        "<a href=\"https://colab.research.google.com/github/JD32919/EDA/blob/main/AVL_tree.ipynb\" target=\"_parent\"><img src=\"https://colab.research.google.com/assets/colab-badge.svg\" alt=\"Open In Colab\"/></a>"
      ]
    },
    {
      "cell_type": "code",
      "execution_count": 2,
      "metadata": {
        "colab": {
          "base_uri": "https://localhost:8080/"
        },
        "id": "QNbCGk-MVnWT",
        "outputId": "f5f74842-6a8c-4ea2-f34f-51f0a51ce3ad"
      },
      "outputs": [
        {
          "output_type": "stream",
          "name": "stdout",
          "text": [
            "Inorder traversal of the AVL tree is\n",
            "10\n",
            "11\n",
            "12\n",
            "13\n",
            "14\n",
            "15\n"
          ]
        }
      ],
      "source": [
        "from graphviz import Digraph\n",
        "\n",
        "class Node(object):\n",
        "    def __init__(self, data):\n",
        "        self.data = data\n",
        "        self.left = None\n",
        "        self.right = None\n",
        "        self.height = 1\n",
        "\n",
        "class AVLTree(object):\n",
        "    def insert(self, root, key):\n",
        "        if not root:\n",
        "            return Node(key)\n",
        "        elif key < root.data:\n",
        "            root.left = self.insert(root.left, key)\n",
        "        else:\n",
        "            root.right = self.insert(root.right, key)\n",
        "\n",
        "        root.height = 1 + max(self.getHeight(root.left),\n",
        "                              self.getHeight(root.right))\n",
        "\n",
        "        b = self.getBalance(root)\n",
        "\n",
        "        if b > 1 and key < root.left.data:\n",
        "            return self.rightRotate(root)\n",
        "\n",
        "        if b < -1 and key > root.right.data:\n",
        "            return self.leftRotate(root)\n",
        "\n",
        "        if b > 1 and key > root.left.data:\n",
        "            root.left = self.leftRotate(root.left)\n",
        "            return self.rightRotate(root)\n",
        "\n",
        "        if b < -1 and key < root.right.data:\n",
        "            root.right = self.rightRotate(root.right)\n",
        "            return self.leftRotate(root)\n",
        "\n",
        "        return root\n",
        "\n",
        "    def leftRotate(self, z):\n",
        "        y = z.right\n",
        "        T2 = y.left\n",
        "        y.left = z\n",
        "        z.right = T2\n",
        "        z.height = 1 + max(self.getHeight(z.left),\n",
        "                           self.getHeight(z.right))\n",
        "        y.height = 1 + max(self.getHeight(y.left),\n",
        "                           self.getHeight(y.right))\n",
        "        return y\n",
        "\n",
        "    def rightRotate(self, z):\n",
        "        y = z.left\n",
        "        T3 = y.right\n",
        "        y.right = z\n",
        "        z.left = T3\n",
        "        z.height = 1 + max(self.getHeight(z.left),\n",
        "                           self.getHeight(z.right))\n",
        "        y.height = 1 + max(self.getHeight(y.left),\n",
        "                           self.getHeight(y.right))\n",
        "        return y\n",
        "\n",
        "    def getHeight(self, root):\n",
        "        if not root:\n",
        "            return 0\n",
        "        return root.height\n",
        "\n",
        "    def getBalance(self, root):\n",
        "        if not root:\n",
        "            return 0\n",
        "        return self.getHeight(root.left) - self.getHeight(root.right)\n",
        "\n",
        "    def Inorder(self, root):\n",
        "        if root.left:\n",
        "            self.Inorder(root.left)\n",
        "        print(root.data)\n",
        "        if root.right:\n",
        "            self.Inorder(root.right)\n",
        "\n",
        "    def visualize(self, root):\n",
        "        dot = Digraph(comment='AVL Tree', format='png')\n",
        "        self.add_nodes(dot, root)\n",
        "        dot.render('avl_tree', view=True)\n",
        "\n",
        "    def add_nodes(self, dot, node):\n",
        "        if node:\n",
        "            dot.node(str(node.data), str(node.data))\n",
        "            if node.left:\n",
        "                dot.edge(str(node.data), str(node.left.data), 'L')\n",
        "                self.add_nodes(dot, node.left)\n",
        "            if node.right:\n",
        "                dot.edge(str(node.data), str(node.right.data), 'R')\n",
        "                self.add_nodes(dot, node.right)\n",
        "\n",
        "# Crear el árbol AVL\n",
        "Tree = AVLTree()\n",
        "root = None\n",
        "\n",
        "root = Tree.insert(root, 10)\n",
        "root = Tree.insert(root, 13)\n",
        "root = Tree.insert(root, 11)\n",
        "root = Tree.insert(root, 14)\n",
        "root = Tree.insert(root, 12)\n",
        "root = Tree.insert(root, 15)\n",
        "\n",
        "# Inorder Traversal\n",
        "print(\"Inorder traversal of the AVL tree is\")\n",
        "Tree.Inorder(root)\n",
        "\n",
        "# Generar la representación gráfica y guardarla como PNG\n",
        "Tree.visualize(root)\n"
      ]
    }
  ]
}