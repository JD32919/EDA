{
  "nbformat": 4,
  "nbformat_minor": 0,
  "metadata": {
    "colab": {
      "provenance": [],
      "authorship_tag": "ABX9TyO9WI/fiW7eT3k4Y65gBxgH",
      "include_colab_link": true
    },
    "kernelspec": {
      "name": "python3",
      "display_name": "Python 3"
    },
    "language_info": {
      "name": "python"
    }
  },
  "cells": [
    {
      "cell_type": "markdown",
      "metadata": {
        "id": "view-in-github",
        "colab_type": "text"
      },
      "source": [
        "<a href=\"https://colab.research.google.com/github/JD32919/EDA/blob/main/Basic_implementation_of_th_undirected_graph.ipynb\" target=\"_parent\"><img src=\"https://colab.research.google.com/assets/colab-badge.svg\" alt=\"Open In Colab\"/></a>"
      ]
    },
    {
      "cell_type": "code",
      "execution_count": 1,
      "metadata": {
        "colab": {
          "base_uri": "https://localhost:8080/"
        },
        "id": "5eqt4w2qlxHB",
        "outputId": "75def4a8-5de0-4f08-c3e5-c8e5840d0f87"
      },
      "outputs": [
        {
          "output_type": "stream",
          "name": "stdout",
          "text": [
            "vertexData: ['A', 'B', 'C', 'D']\n",
            "\n",
            "Adjacency Matrix:\n",
            "[0, 1, 1, 1]\n",
            "[1, 0, 1, 0]\n",
            "[1, 1, 0, 0]\n",
            "[1, 0, 0, 0]\n"
          ]
        }
      ],
      "source": [
        "vertexData = ['A', 'B', 'C', 'D']\n",
        "\n",
        "adjacency_matrix = [\n",
        "    [0, 1, 1, 1],  # Edges for A\n",
        "    [1, 0, 1, 0],  # Edges for B\n",
        "    [1, 1, 0, 0],  # Edges for C\n",
        "    [1, 0, 0, 0]   # Edges for D\n",
        "]\n",
        "\n",
        "def print_adjacency_matrix(matrix):\n",
        "    print(\"\\nAdjacency Matrix:\")\n",
        "    for row in matrix:\n",
        "        print(row)\n",
        "\n",
        "print('vertexData:',vertexData)\n",
        "print_adjacency_matrix(adjacency_matrix)"
      ]
    }
  ]
}