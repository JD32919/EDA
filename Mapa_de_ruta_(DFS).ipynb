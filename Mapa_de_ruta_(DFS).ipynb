{
  "nbformat": 4,
  "nbformat_minor": 0,
  "metadata": {
    "colab": {
      "provenance": [],
      "authorship_tag": "ABX9TyM94ehv9zQmQK0CXbhKFCrU",
      "include_colab_link": true
    },
    "kernelspec": {
      "name": "python3",
      "display_name": "Python 3"
    },
    "language_info": {
      "name": "python"
    }
  },
  "cells": [
    {
      "cell_type": "markdown",
      "metadata": {
        "id": "view-in-github",
        "colab_type": "text"
      },
      "source": [
        "<a href=\"https://colab.research.google.com/github/JD32919/EDA/blob/main/Mapa_de_ruta_(DFS).ipynb\" target=\"_parent\"><img src=\"https://colab.research.google.com/assets/colab-badge.svg\" alt=\"Open In Colab\"/></a>"
      ]
    },
    {
      "cell_type": "code",
      "execution_count": 5,
      "metadata": {
        "colab": {
          "base_uri": "https://localhost:8080/"
        },
        "id": "HQ6Bo4BioOQu",
        "outputId": "0a73bb8c-d061-4ea4-a61c-17e19857566c"
      },
      "outputs": [
        {
          "output_type": "stream",
          "name": "stdout",
          "text": [
            "\n",
            "Vertex Data:\n",
            "Vertex 0: A\n",
            "Vertex 1: B\n",
            "Vertex 2: C\n",
            "Vertex 3: D\n",
            "Vertex 4: E\n",
            "Vertex 5: F\n",
            "Vertex 6: G\n",
            "\n",
            "Depth First Search starting from vertex D:\n",
            "D A C B F E G "
          ]
        }
      ],
      "source": [
        "class Graph:\n",
        "    def __init__(self, size):\n",
        "        self.adj_matrix = [[0] * size for _ in range(size)]\n",
        "        self.size = size\n",
        "        self.vertex_data = [''] * size\n",
        "\n",
        "    def add_edge(self, u, v):\n",
        "        if 0 <= u < self.size and 0 <= v < self.size:\n",
        "            self.adj_matrix[u][v] = 1\n",
        "            self.adj_matrix[v][u] = 1\n",
        "\n",
        "    def add_vertex_data(self, vertex, data):\n",
        "        if 0 <= vertex < self.size:\n",
        "            self.vertex_data[vertex] = data\n",
        "\n",
        "    def print_graph(self):\n",
        "\n",
        "        print(\"\\nVertex Data:\")\n",
        "        for vertex, data in enumerate(self.vertex_data):\n",
        "            print(f\"Vertex {vertex}: {data}\")\n",
        "\n",
        "\n",
        "    def dfs_util(self, v, visited):\n",
        "        visited[v] = True\n",
        "        print(self.vertex_data[v], end=' ')\n",
        "\n",
        "        for i in range(self.size):\n",
        "            if self.adj_matrix[v][i] == 1 and not visited[i]:\n",
        "                self.dfs_util(i, visited)\n",
        "\n",
        "    def dfs(self, start_vertex_data):\n",
        "        visited = [False] * self.size\n",
        "        start_vertex = self.vertex_data.index(start_vertex_data)\n",
        "        self.dfs_util(start_vertex, visited)\n",
        "\n",
        "g = Graph(7)\n",
        "\n",
        "g.add_vertex_data(0, 'A')\n",
        "g.add_vertex_data(1, 'B')\n",
        "g.add_vertex_data(2, 'C')\n",
        "g.add_vertex_data(3, 'D')\n",
        "g.add_vertex_data(4, 'E')\n",
        "g.add_vertex_data(5, 'F')\n",
        "g.add_vertex_data(6, 'G')\n",
        "g.add_vertex_data(7, 'H')\n",
        "g.add_vertex_data(8, 'I')\n",
        "g.add_vertex_data(9, 'J')\n",
        "g.add_vertex_data(10, 'K')\n",
        "g.add_vertex_data(11, 'L')\n",
        "\n",
        "g.add_edge(3, 0)  # D - A\n",
        "g.add_edge(0, 2)  # A - C\n",
        "g.add_edge(0, 3)  # A - D\n",
        "g.add_edge(0, 4)  # A - E\n",
        "g.add_edge(4, 2)  # E - C\n",
        "g.add_edge(2, 5)  # C - F\n",
        "g.add_edge(2, 1)  # C - B\n",
        "g.add_edge(2, 6)  # C - G\n",
        "g.add_edge(1, 5)  # B - F\n",
        "\n",
        "g.print_graph()\n",
        "\n",
        "print(\"\\nDepth First Search starting from vertex D:\")\n",
        "g.dfs('D')"
      ]
    }
  ]
}