{
  "nbformat": 4,
  "nbformat_minor": 0,
  "metadata": {
    "colab": {
      "private_outputs": true,
      "provenance": [],
      "authorship_tag": "ABX9TyNkm6jAJZ2lqGQO/PtPzkEe",
      "include_colab_link": true
    },
    "kernelspec": {
      "name": "python3",
      "display_name": "Python 3"
    },
    "language_info": {
      "name": "python"
    }
  },
  "cells": [
    {
      "cell_type": "markdown",
      "metadata": {
        "id": "view-in-github",
        "colab_type": "text"
      },
      "source": [
        "<a href=\"https://colab.research.google.com/github/JD32919/EDA/blob/main/Radix_sort_negativos.ipynb\" target=\"_parent\"><img src=\"https://colab.research.google.com/assets/colab-badge.svg\" alt=\"Open In Colab\"/></a>"
      ]
    },
    {
      "cell_type": "code",
      "execution_count": null,
      "metadata": {
        "id": "OSgwgLth71pR"
      },
      "outputs": [],
      "source": [
        "def counting_sort_rows(table, exp):\n",
        "    n = len(table)  # Número de filas\n",
        "    output = [0] * n  # Salida ordenada\n",
        "    count = [0] * 19  # Contamos de -9 a 9 (19 posibles valores)\n",
        "\n",
        "    # Convertir las filas a valores de 3 dígitos\n",
        "    row_numbers = [(row[0] * 100 + row[1] * 10 + row[2]) for row in table]\n",
        "\n",
        "    # Contar ocurrencias de cada dígito en el lugar `exp`\n",
        "    for num in row_numbers:\n",
        "        index = (num // exp) % 10 + 9  # Ajuste para que el índice sea positivo\n",
        "        count[index] += 1\n",
        "\n",
        "    # Transformar `count` para representar posiciones reales\n",
        "    for i in range(1, 19):\n",
        "        count[i] += count[i - 1]\n",
        "\n",
        "    # Construir el arreglo ordenado basado en el dígito actual\n",
        "    for i in range(n - 1, -1, -1):\n",
        "        index = (row_numbers[i] // exp) % 10 + 9\n",
        "        output[count[index] - 1] = table[i]\n",
        "        count[index] -= 1\n",
        "\n",
        "    # Sobrescribir la tabla original con las filas ordenadas\n",
        "    for i in range(n):\n",
        "        table[i] = output[i]\n",
        "\n",
        "def radix_sort_table_by_rows(table):\n",
        "    # Convertir cada fila en un número para determinar el máximo\n",
        "    row_numbers = [(row[0] * 100 + row[1] * 10 + row[2]) for row in table]\n",
        "    max_num = max(abs(num) for num in row_numbers)\n",
        "\n",
        "    exp = 1  # Comenzar con el dígito menos significativo\n",
        "    while max_num // exp > 0:\n",
        "        counting_sort_rows(table, exp)\n",
        "        exp *= 10\n",
        "\n",
        "def sort_table_by_values(table):\n",
        "    # Ordenar las filas por su valor numérico como entero\n",
        "    table.sort(key=lambda row: (row[0] * 100 + row[1] * 10 + row[2]))\n",
        "\n",
        "# Ejemplo de uso\n",
        "if __name__ == \"__main__\":\n",
        "    table = [\n",
        "        [1, 1, 7],\n",
        "        [9, 0, 9],\n",
        "        [0, 0, 3],\n",
        "        [-1, 1, 1],\n",
        "        [1, 9, 9],\n",
        "        [0, -9, 9],\n",
        "        [0, 9, 8],\n",
        "    ]\n",
        "\n",
        "    print(\"Tabla original:\")\n",
        "    for row in table:\n",
        "        print(row)\n",
        "\n",
        "    # Ordenamos la tabla con radix_sort\n",
        "    radix_sort_table_by_rows(table)\n",
        "\n",
        "    # Luego ordenamos por los valores completos de cada fila (de menor a mayor)\n",
        "    sort_table_by_values(table)\n",
        "\n",
        "    print(\"\\nTabla ordenada (por filas de menor a mayor):\")\n",
        "    for row in table:\n",
        "        print(row)\n",
        "\n"
      ]
    }
  ]
}