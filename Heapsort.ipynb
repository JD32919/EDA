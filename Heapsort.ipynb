{
  "nbformat": 4,
  "nbformat_minor": 0,
  "metadata": {
    "colab": {
      "private_outputs": true,
      "provenance": [],
      "authorship_tag": "ABX9TyO150o/YzckXU3E8fyQh57b",
      "include_colab_link": true
    },
    "kernelspec": {
      "name": "python3",
      "display_name": "Python 3"
    },
    "language_info": {
      "name": "python"
    }
  },
  "cells": [
    {
      "cell_type": "markdown",
      "metadata": {
        "id": "view-in-github",
        "colab_type": "text"
      },
      "source": [
        "<a href=\"https://colab.research.google.com/github/JD32919/EDA/blob/main/Heapsort.ipynb\" target=\"_parent\"><img src=\"https://colab.research.google.com/assets/colab-badge.svg\" alt=\"Open In Colab\"/></a>"
      ]
    },
    {
      "cell_type": "code",
      "execution_count": null,
      "metadata": {
        "id": "MOB1UeMoro9e"
      },
      "outputs": [],
      "source": [
        "import random\n",
        "from graphviz import Digraph\n",
        "\n",
        "# Función para realizar heapify recursivamente en un k-ary Max-Heap\n",
        "def max_heapify_kary_recursive(tree, n, i, k):\n",
        "    largest = i\n",
        "    for j in range(1, k + 1):\n",
        "        child = k * i + j  # Índice del hijo `j`\n",
        "        if child < n and tree[child] > tree[largest]:\n",
        "            largest = child\n",
        "    if largest != i:\n",
        "        tree[i], tree[largest] = tree[largest], tree[i]\n",
        "        max_heapify_kary_recursive(tree, n, largest, k)\n",
        "\n",
        "# Construcción recursiva del Max-Heap k-ary\n",
        "def build_max_heap_kary_recursive(tree, k):\n",
        "    n = len(tree)\n",
        "    # Recursivamente ajustar desde el último nodo no hoja hacia arriba\n",
        "    def ajustar_subarbol(i):\n",
        "        if i >= 0:\n",
        "            max_heapify_kary_recursive(tree, n, i, k)\n",
        "            ajustar_subarbol(i - 1)\n",
        "    ajustar_subarbol((n - 1) // k)\n",
        "\n",
        "# Ordenamiento HeapSort recursivo\n",
        "def heap_sort_kary_recursive(tree, k):\n",
        "    n = len(tree)\n",
        "    build_max_heap_kary_recursive(tree, k)\n",
        "\n",
        "    def extraer_heap(i):\n",
        "        if i > 0:\n",
        "            tree[0], tree[i] = tree[i], tree[0]\n",
        "            max_heapify_kary_recursive(tree, i, 0, k)\n",
        "            extraer_heap(i - 1)\n",
        "    extraer_heap(n - 1)\n",
        "\n",
        "# Función para generar una lista aleatoria\n",
        "def generar_lista_aleatoria(tamano, rango):\n",
        "    return [random.randint(1, rango) for _ in range(tamano)]\n",
        "\n",
        "# Generar y visualizar el árbol con Graphviz\n",
        "def generar_arbol_graphviz(tree, k, filename=\"arbol_kary\"):\n",
        "    dot = Digraph(format=\"png\")\n",
        "    n = len(tree)\n",
        "\n",
        "    for i in range(n):\n",
        "        dot.node(str(i), str(tree[i]))  # Crear nodo\n",
        "        for j in range(1, k + 1):\n",
        "            child = k * i + j\n",
        "            if child < n:\n",
        "                dot.edge(str(i), str(child))  # Conectar con los hijos\n",
        "\n",
        "    dot.render(filename, cleanup=True)  # Guardar imagen\n",
        "\n",
        "# Configuración\n",
        "k = 3  # Árbol ternario\n",
        "lista = generar_lista_aleatoria(15, 100)\n",
        "\n",
        "print( lista)\n",
        "\n",
        "\n",
        "print(\"\\nÁrbol inicial (Max-Heap k-ary):\")\n",
        "build_max_heap_kary_recursive(lista, k)\n",
        "generar_arbol_graphviz(lista, k, \"max_heap_kary\")\n",
        "\n",
        "\n",
        "print(\"\\nOrdenando con HeapSort k-ary:\")\n",
        "heap_sort_kary_recursive(lista, k)\n",
        "print(\"Lista ordenada:\", lista)\n",
        "\n",
        "\n",
        "generar_arbol_graphviz(lista, k, \"heap_sort_kary\")\n",
        "\n"
      ]
    }
  ]
}