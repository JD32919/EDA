{
  "nbformat": 4,
  "nbformat_minor": 0,
  "metadata": {
    "colab": {
      "provenance": [],
      "authorship_tag": "ABX9TyMFBDoEugh3ObS2+uybZ+od",
      "include_colab_link": true
    },
    "kernelspec": {
      "name": "python3",
      "display_name": "Python 3"
    },
    "language_info": {
      "name": "python"
    }
  },
  "cells": [
    {
      "cell_type": "markdown",
      "metadata": {
        "id": "view-in-github",
        "colab_type": "text"
      },
      "source": [
        "<a href=\"https://colab.research.google.com/github/JD32919/EDA/blob/main/Grafo_no_dirgido_ponderado.ipynb\" target=\"_parent\"><img src=\"https://colab.research.google.com/assets/colab-badge.svg\" alt=\"Open In Colab\"/></a>"
      ]
    },
    {
      "cell_type": "code",
      "execution_count": 1,
      "metadata": {
        "colab": {
          "base_uri": "https://localhost:8080/"
        },
        "id": "Q0pZNycvc_SF",
        "outputId": "3b29d82d-f591-4884-df21-3d63313f4088"
      },
      "outputs": [
        {
          "output_type": "stream",
          "name": "stdout",
          "text": [
            "Lista de Adyacencia Ponderada:\n",
            "A: [('B', 5), ('C', 3), ('D', 2)]\n",
            "B: [('A', 5), ('C', 4), ('D', 6)]\n",
            "C: [('A', 3), ('B', 4), ('E', 7), ('F', 8)]\n",
            "D: [('A', 2), ('B', 6), ('E', 1)]\n",
            "E: [('D', 1), ('C', 7)]\n",
            "F: [('C', 8), ('G', 9), ('H', 3)]\n",
            "G: [('F', 9), ('H', 2)]\n",
            "H: [('G', 2), ('F', 3), ('I', 4)]\n",
            "I: [('H', 4), ('J', 5)]\n",
            "J: [('I', 5)]\n",
            "Matriz de Adyacencia Ponderada:\n",
            "[0, 5, 3, 2, 0, 0, 0, 0, 0, 0]\n",
            "[5, 0, 4, 6, 0, 0, 0, 0, 0, 0]\n",
            "[3, 4, 0, 0, 7, 8, 0, 0, 0, 0]\n",
            "[2, 6, 0, 0, 1, 0, 0, 0, 0, 0]\n",
            "[0, 0, 7, 1, 0, 0, 0, 0, 0, 0]\n",
            "[0, 0, 8, 0, 0, 0, 9, 3, 0, 0]\n",
            "[0, 0, 0, 0, 0, 9, 0, 2, 0, 0]\n",
            "[0, 0, 0, 0, 0, 3, 2, 0, 4, 0]\n",
            "[0, 0, 0, 0, 0, 0, 0, 4, 0, 5]\n",
            "[0, 0, 0, 0, 0, 0, 0, 0, 5, 0]\n",
            "Imagen del grafo ponderado generada: grafo_ponderado.png\n"
          ]
        }
      ],
      "source": [
        "# Importamos la librería graphviz\n",
        "from graphviz import Graph\n",
        "\n",
        "class Grafo:\n",
        "    def __init__(self):\n",
        "        # Diccionario para la lista de adyacencia, ahora almacenamos los pesos también\n",
        "        self.adyacencia = {}\n",
        "\n",
        "    def agregar_vertice(self, vertice):\n",
        "        if vertice not in self.adyacencia:\n",
        "            self.adyacencia[vertice] = []\n",
        "\n",
        "    def agregar_arista(self, vertice1, vertice2, peso):\n",
        "        if vertice1 in self.adyacencia and vertice2 in self.adyacencia:\n",
        "            # Almacenamos el peso junto con el vértice conectado\n",
        "            self.adyacencia[vertice1].append((vertice2, peso))\n",
        "            self.adyacencia[vertice2].append((vertice1, peso))\n",
        "\n",
        "    def remover_vertice(self, vertice):\n",
        "        if vertice in self.adyacencia:\n",
        "            for vecino, _ in self.adyacencia[vertice]:\n",
        "                self.adyacencia[vecino] = [(v, p) for v, p in self.adyacencia[vecino] if v != vertice]\n",
        "            del self.adyacencia[vertice]\n",
        "\n",
        "    def imprimir_matriz_adyacencia(self):\n",
        "        vertices = list(self.adyacencia.keys())\n",
        "        matriz = [[0] * len(vertices) for _ in range(len(vertices))]\n",
        "        for i, vertice1 in enumerate(vertices):\n",
        "            for vertice2, peso in self.adyacencia[vertice1]:\n",
        "                j = vertices.index(vertice2)\n",
        "                matriz[i][j] = peso\n",
        "        print(\"Matriz de Adyacencia Ponderada:\")\n",
        "        for fila in matriz:\n",
        "            print(fila)\n",
        "\n",
        "    def imprimir_lista_adyacencia(self):\n",
        "        print(\"Lista de Adyacencia Ponderada:\")\n",
        "        for vertice, vecinos in self.adyacencia.items():\n",
        "            print(f\"{vertice}: {vecinos}\")\n",
        "\n",
        "    def generar_imagen(self, nombre_archivo=\"grafo_ponderado\"):\n",
        "        # Crear un nuevo grafo no dirigido con aristas ponderadas\n",
        "        g = Graph(format='png')\n",
        "        for vertice, vecinos in self.adyacencia.items():\n",
        "            for vecino, peso in vecinos:\n",
        "                if vertice < vecino:  # Evitar duplicar aristas en grafo no dirigido\n",
        "                    # Incluir el peso en la etiqueta del borde\n",
        "                    g.edge(vertice, vecino, label=str(peso))\n",
        "        # Guardar y renderizar la imagen del grafo\n",
        "        archivo_salida = f\"{nombre_archivo}\"\n",
        "        g.render(archivo_salida, cleanup=True)\n",
        "        print(f\"Imagen del grafo ponderado generada: {archivo_salida}.png\")\n",
        "\n",
        "# Crear una instancia del grafo\n",
        "grafo = Grafo()\n",
        "\n",
        "# Añadir vértices y aristas con pesos\n",
        "grafo.agregar_vertice(\"A\")\n",
        "grafo.agregar_vertice(\"B\")\n",
        "grafo.agregar_vertice(\"C\")\n",
        "grafo.agregar_vertice(\"D\")\n",
        "grafo.agregar_vertice(\"E\")\n",
        "grafo.agregar_vertice(\"F\")\n",
        "grafo.agregar_vertice(\"G\")\n",
        "grafo.agregar_vertice(\"H\")\n",
        "grafo.agregar_vertice(\"I\")\n",
        "grafo.agregar_vertice(\"J\")\n",
        "\n",
        "# Añadir aristas con pesos\n",
        "grafo.agregar_arista(\"A\", \"B\", 5)\n",
        "grafo.agregar_arista(\"A\", \"C\", 3)\n",
        "grafo.agregar_arista(\"A\", \"D\", 2)\n",
        "grafo.agregar_arista(\"B\", \"C\", 4)\n",
        "grafo.agregar_arista(\"B\", \"D\", 6)\n",
        "grafo.agregar_arista(\"D\", \"E\", 1)\n",
        "grafo.agregar_arista(\"E\", \"C\", 7)\n",
        "grafo.agregar_arista(\"C\", \"F\", 8)\n",
        "grafo.agregar_arista(\"F\", \"G\", 9)\n",
        "grafo.agregar_arista(\"G\", \"H\", 2)\n",
        "grafo.agregar_arista(\"H\", \"F\", 3)\n",
        "grafo.agregar_arista(\"H\", \"I\", 4)\n",
        "grafo.agregar_arista(\"I\", \"J\", 5)\n",
        "\n",
        "# Imprimir lista de adyacencia y matriz de adyacencia ponderadas\n",
        "grafo.imprimir_lista_adyacencia()\n",
        "grafo.imprimir_matriz_adyacencia()\n",
        "\n",
        "# Generar la imagen del grafo ponderado\n",
        "grafo.generar_imagen(\"grafo_ponderado\")\n"
      ]
    }
  ]
}