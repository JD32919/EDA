{
  "nbformat": 4,
  "nbformat_minor": 0,
  "metadata": {
    "colab": {
      "provenance": [],
      "authorship_tag": "ABX9TyPE7oS5BaeU5x0PrTCdipYe",
      "include_colab_link": true
    },
    "kernelspec": {
      "name": "python3",
      "display_name": "Python 3"
    },
    "language_info": {
      "name": "python"
    }
  },
  "cells": [
    {
      "cell_type": "markdown",
      "metadata": {
        "id": "view-in-github",
        "colab_type": "text"
      },
      "source": [
        "<a href=\"https://colab.research.google.com/github/JD32919/EDA/blob/main/Restaurants.ipynb\" target=\"_parent\"><img src=\"https://colab.research.google.com/assets/colab-badge.svg\" alt=\"Open In Colab\"/></a>"
      ]
    },
    {
      "cell_type": "code",
      "execution_count": 9,
      "metadata": {
        "colab": {
          "base_uri": "https://localhost:8080/"
        },
        "id": "OWNg1o2mG4KL",
        "outputId": "ea601582-8858-4fe0-f9c0-d01c9374d4c0"
      },
      "outputs": [
        {
          "output_type": "stream",
          "name": "stdout",
          "text": [
            "Restaurante encontrado con búsqueda lineal: {'nombre': 'Pizza Mia', 'especialidad': 'pizza', 'calificacion': 5, 'direccion': 'Calle de la Paz #45'}\n",
            "Restaurantes encontrados con búsqueda binaria para la calificación 5 :\n",
            "{'nombre': 'Pizza Mia', 'especialidad': 'pizza', 'calificacion': 5, 'direccion': 'Calle de la Paz #45'}\n",
            "{'nombre': 'El Rinconcito', 'especialidad': 'mariscos', 'calificacion': 5, 'direccion': 'Calle del Mar #89'}\n",
            "{'nombre': 'Wok & Roll', 'especialidad': 'comida china', 'calificacion': 5, 'direccion': 'Calle China #100'}\n"
          ]
        }
      ],
      "source": [
        " # Datos de restaurantes\n",
        "restaurantes = [\n",
        "    {\"nombre\": \"El Taco Feliz\", \"especialidad\": \"tacos\", \"calificacion\": 4, \"direccion\": \"Av. Principal #123\"},\n",
        "    {\"nombre\": \"Pizza Mia\", \"especialidad\": \"pizza\", \"calificacion\": 5, \"direccion\": \"Calle de la Paz #45\"},\n",
        "    {\"nombre\": \"La Bella Italia\", \"especialidad\": \"comida italiana\", \"calificacion\": 3, \"direccion\": \"Av. Italia #456\"},\n",
        "    {\"nombre\": \"Durango BBQ\", \"especialidad\": \"barbacoa\", \"calificacion\": 4, \"direccion\": \"Av. Barbacoa #23\"},\n",
        "    {\"nombre\": \"Tortas del Norte\", \"especialidad\": \"tortas\", \"calificacion\": 2, \"direccion\": \"Calle Norte #8\"},\n",
        "    {\"nombre\": \"El Rinconcito\", \"especialidad\": \"mariscos\", \"calificacion\": 5, \"direccion\": \"Calle del Mar #89\"},\n",
        "    {\"nombre\": \"Casa de Sopa\", \"especialidad\": \"sopa\", \"calificacion\": 1, \"direccion\": \"Calle Caliente #12\"},\n",
        "    {\"nombre\": \"Don Comalon\", \"especialidad\": \"carnes\", \"calificacion\": 3, \"direccion\": \"Plaza Central #15\"},\n",
        "    {\"nombre\": \"Wok & Roll\", \"especialidad\": \"comida china\", \"calificacion\": 5, \"direccion\": \"Calle China #100\"},\n",
        "    {\"nombre\": \"La Esquina\", \"especialidad\": \"comida rápida\", \"calificacion\": 2, \"direccion\": \"Calle Nueva #34\"},\n",
        "    # Agrega más restaurantes si es necesario para llegar a los 20\n",
        "]\n",
        "\n",
        "# Búsqueda Lineal\n",
        "def busqueda_lineal_por_nombre(nombre_restaurante):\n",
        "    for restaurante in restaurantes:\n",
        "        if restaurante[\"nombre\"].lower() == nombre_restaurante.lower():\n",
        "            return restaurante\n",
        "    return None\n",
        "\n",
        "# Búsqueda Binaria (Requiere lista ordenada)\n",
        "def busqueda_binaria_por_calificacion(calificacion):\n",
        "    # Ordenar restaurantes por calificación\n",
        "    restaurantes_ordenados = sorted(restaurantes, key=lambda r: r[\"calificacion\"])\n",
        "\n",
        "    inicio = 0\n",
        "    fin = len(restaurantes_ordenados) - 1\n",
        "    restaurantes_con_calificacion = []\n",
        "\n",
        "    while inicio <= fin:\n",
        "        medio = (inicio + fin) // 2\n",
        "        restaurante_medio = restaurantes_ordenados[medio]\n",
        "\n",
        "        if restaurante_medio[\"calificacion\"] == calificacion:\n",
        "            # Agregar restaurante medio a la lista\n",
        "            restaurantes_con_calificacion.append(restaurante_medio)\n",
        "\n",
        "            # Buscar otros restaurantes con la misma calificación en posiciones adyacentes\n",
        "            izquierda = medio - 1\n",
        "            derecha = medio + 1\n",
        "\n",
        "            # Hacia la izquierda\n",
        "            while izquierda >= 0 and restaurantes_ordenados[izquierda][\"calificacion\"] == calificacion:\n",
        "                restaurantes_con_calificacion.append(restaurantes_ordenados[izquierda])\n",
        "                izquierda -= 1\n",
        "\n",
        "            # Hacia la derecha\n",
        "            while derecha < len(restaurantes_ordenados) and restaurantes_ordenados[derecha][\"calificacion\"] == calificacion:\n",
        "                restaurantes_con_calificacion.append(restaurantes_ordenados[derecha])\n",
        "                derecha += 1\n",
        "\n",
        "            return restaurantes_con_calificacion\n",
        "\n",
        "        elif restaurante_medio[\"calificacion\"] < calificacion:\n",
        "            inicio = medio + 1\n",
        "        else:\n",
        "            fin = medio - 1\n",
        "\n",
        "    return restaurantes_con_calificacion\n",
        "\n",
        "# Pruebas de Búsqueda Lineal\n",
        "nombre_a_buscar = \"Pizza Mia\"\n",
        "resultado_lineal = busqueda_lineal_por_nombre(nombre_a_buscar)\n",
        "if resultado_lineal:\n",
        "    print(\"Restaurante encontrado con búsqueda lineal:\", resultado_lineal)\n",
        "else:\n",
        "    print(f\"No se encontró un restaurante llamado '{nombre_a_buscar}' en la lista.\")\n",
        "\n",
        "# Pruebas de Búsqueda Binaria\n",
        "calificacion_a_buscar = 5\n",
        "resultado_binario = busqueda_binaria_por_calificacion(calificacion_a_buscar)\n",
        "if resultado_binario:\n",
        "    print(\"Restaurantes encontrados con búsqueda binaria para la calificación\", calificacion_a_buscar, \":\")\n",
        "    for restaurante in resultado_binario:\n",
        "        print(restaurante)\n",
        "else:\n",
        "    print(f\"No se encontró un restaurante con calificación '{calificacion_a_buscar}' en la lista.\")\n"
      ]
    }
  ]
}