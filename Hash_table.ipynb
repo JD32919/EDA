{
  "nbformat": 4,
  "nbformat_minor": 0,
  "metadata": {
    "colab": {
      "provenance": [],
      "authorship_tag": "ABX9TyOTcMTVaUQUdzFhQF507p+A",
      "include_colab_link": true
    },
    "kernelspec": {
      "name": "python3",
      "display_name": "Python 3"
    },
    "language_info": {
      "name": "python"
    }
  },
  "cells": [
    {
      "cell_type": "markdown",
      "metadata": {
        "id": "view-in-github",
        "colab_type": "text"
      },
      "source": [
        "<a href=\"https://colab.research.google.com/github/JD32919/EDA/blob/main/Hash_table.ipynb\" target=\"_parent\"><img src=\"https://colab.research.google.com/assets/colab-badge.svg\" alt=\"Open In Colab\"/></a>"
      ]
    },
    {
      "cell_type": "code",
      "execution_count": 1,
      "metadata": {
        "colab": {
          "base_uri": "https://localhost:8080/"
        },
        "id": "lHXo7zSflLzD",
        "outputId": "aacc2203-bccb-44a6-c1fe-4abd5e65f278"
      },
      "outputs": [
        {
          "output_type": "stream",
          "name": "stdout",
          "text": [
            "Insertada la fruta \"manzana\" en el índice 0.\n",
            "Insertada la fruta \"pera\" en el índice 6.\n",
            "Insertada la fruta \"naranja\" en el índice 2.\n",
            "Insertada la fruta \"uva\" en el índice 6.\n",
            "Insertada la fruta \"platano\" en el índice 9.\n",
            "Insertada la fruta \"cereza\" en el índice 6.\n",
            "Insertada la fruta \"fresa\" en el índice 1.\n",
            "Insertada la fruta \"melon\" en el índice 2.\n",
            "Insertada la fruta \"kiwi\" en el índice 7.\n",
            "Insertada la fruta \"sandia\" en el índice 6.\n",
            "Insertada la fruta \"limon\" en el índice 3.\n",
            "Insertada la fruta \"mango\" en el índice 2.\n",
            "¿Qué fruta estás buscando?: mnzana\n",
            "La fruta \"mnzana\" no se encuentra en la tabla.\n"
          ]
        }
      ],
      "source": [
        "class HashTable:\n",
        "    def __init__(self, size):\n",
        "        self.size = size\n",
        "        self.table = [[] for _ in range(size)]\n",
        "\n",
        "    def hash_function(self, key):\n",
        "        # Usar la función hash de Python y ajustar al tamaño de la tabla\n",
        "        return hash(key) % self.size\n",
        "\n",
        "    def insert(self, key, value):\n",
        "        index = self.hash_function(key)\n",
        "        # Encadenamiento: agregar la fruta a la lista en el índice calculado\n",
        "        self.table[index].append((key, value))\n",
        "        print(f'Insertada la fruta \"{key}\" en el índice {index}.')\n",
        "\n",
        "    def search(self, key):\n",
        "        index = self.hash_function(key)\n",
        "        # Buscar la clave en la lista del índice calculado\n",
        "        for k, v in self.table[index]:\n",
        "            if k == key:\n",
        "                print(f'La fruta \"{key}\" se encuentra en el índice {index} con el valor: {v}')\n",
        "                return v\n",
        "        print(f'La fruta \"{key}\" no se encuentra en la tabla.')\n",
        "        return None\n",
        "\n",
        "# Crear la tabla hash con tamaño 10\n",
        "tabla_hash = HashTable(10)\n",
        "\n",
        "# Insertar frutas con colisiones intencionadas\n",
        "frutas = {\n",
        "    \"manzana\": 10,\n",
        "    \"pera\": 20,\n",
        "    \"naranja\": 15,\n",
        "    \"uva\": 12,\n",
        "    \"platano\": 25,\n",
        "    \"cereza\": 30,\n",
        "    \"fresa\": 18,\n",
        "    \"melon\": 5,\n",
        "    \"kiwi\": 28,\n",
        "    \"sandia\": 22,\n",
        "    # Frutas que causarán colisiones\n",
        "    \"limon\": 33,\n",
        "    \"mango\": 35\n",
        "}\n",
        "\n",
        "# Insertar frutas en la tabla\n",
        "for fruta, valor in frutas.items():\n",
        "    tabla_hash.insert(fruta, valor)\n",
        "\n",
        "# Preguntar al usuario por una fruta a buscar\n",
        "fruta_buscada = input(\"¿Qué fruta estás buscando?: \")\n",
        "tabla_hash.search(fruta_buscada)\n"
      ]
    }
  ]
}