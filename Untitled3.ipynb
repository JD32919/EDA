{
  "nbformat": 4,
  "nbformat_minor": 0,
  "metadata": {
    "colab": {
      "provenance": [],
      "authorship_tag": "ABX9TyM6gS5QjR/vBDXyyY2y9IHr",
      "include_colab_link": true
    },
    "kernelspec": {
      "name": "python3",
      "display_name": "Python 3"
    },
    "language_info": {
      "name": "python"
    }
  },
  "cells": [
    {
      "cell_type": "markdown",
      "metadata": {
        "id": "view-in-github",
        "colab_type": "text"
      },
      "source": [
        "<a href=\"https://colab.research.google.com/github/JD32919/EDA/blob/main/Untitled3.ipynb\" target=\"_parent\"><img src=\"https://colab.research.google.com/assets/colab-badge.svg\" alt=\"Open In Colab\"/></a>"
      ]
    },
    {
      "cell_type": "code",
      "execution_count": 9,
      "metadata": {
        "colab": {
          "base_uri": "https://localhost:8080/"
        },
        "id": "km-2XZkXfMN4",
        "outputId": "3f9ba57e-87a9-4aaa-9ca3-ca083f4a94d0"
      },
      "outputs": [
        {
          "output_type": "stream",
          "name": "stdout",
          "text": [
            "lista [4, 5, 15, 10, 35, 7, 17]\n",
            "Elemento 15 encontrado en el indice 2\n"
          ]
        }
      ],
      "source": [
        "def busqueda_linea (lista,elemento):\n",
        "  for i in range (len(lista)):\n",
        "    if lista[i] == elemento:\n",
        "      return i\n",
        "      return -1\n",
        "\n",
        "lista =[4,5,15,10,35,7,17]\n",
        "\n",
        "elemento = 15\n",
        "\n",
        "\n",
        "Resultado = busqueda_linea(lista,elemento)\n",
        "\n",
        "print(\"lista\", lista)\n",
        "if Resultado != -1:\n",
        "  print(f\"Elemento {elemento} encontrado en el indice {Resultado}\")\n",
        "else:\n",
        "  print(\"Elemento no encontrado en la lista\")\n",
        "\n"
      ]
    }
  ]
}