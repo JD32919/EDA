{
  "nbformat": 4,
  "nbformat_minor": 0,
  "metadata": {
    "colab": {
      "provenance": [],
      "authorship_tag": "ABX9TyN+07EqkaQaXEVnn0nB+ulY",
      "include_colab_link": true
    },
    "kernelspec": {
      "name": "python3",
      "display_name": "Python 3"
    },
    "language_info": {
      "name": "python"
    }
  },
  "cells": [
    {
      "cell_type": "markdown",
      "metadata": {
        "id": "view-in-github",
        "colab_type": "text"
      },
      "source": [
        "<a href=\"https://colab.research.google.com/github/JD32919/EDA/blob/main/Grafo_no_dirigido_no_ponderado.ipynb\" target=\"_parent\"><img src=\"https://colab.research.google.com/assets/colab-badge.svg\" alt=\"Open In Colab\"/></a>"
      ]
    },
    {
      "cell_type": "code",
      "execution_count": 4,
      "metadata": {
        "colab": {
          "base_uri": "https://localhost:8080/"
        },
        "id": "MMOUWlztXcKf",
        "outputId": "d624a393-110f-4e3a-a060-bab840ffc731"
      },
      "outputs": [
        {
          "output_type": "stream",
          "name": "stdout",
          "text": [
            "Lista de Adyacencia:\n",
            "A: ['B', 'C', 'D']\n",
            "B: ['A', 'C', 'D']\n",
            "C: ['A', 'B', 'E', 'F']\n",
            "D: ['A', 'B', 'E']\n",
            "E: ['D', 'C']\n",
            "F: ['C', 'G', 'H']\n",
            "G: ['F', 'H']\n",
            "H: ['G', 'F', 'I']\n",
            "I: ['H', 'J']\n",
            "J: ['I']\n",
            "Matriz de Adyacencia:\n",
            "[0, 1, 1, 1, 0, 0, 0, 0, 0, 0]\n",
            "[1, 0, 1, 1, 0, 0, 0, 0, 0, 0]\n",
            "[1, 1, 0, 0, 1, 1, 0, 0, 0, 0]\n",
            "[1, 1, 0, 0, 1, 0, 0, 0, 0, 0]\n",
            "[0, 0, 1, 1, 0, 0, 0, 0, 0, 0]\n",
            "[0, 0, 1, 0, 0, 0, 1, 1, 0, 0]\n",
            "[0, 0, 0, 0, 0, 1, 0, 1, 0, 0]\n",
            "[0, 0, 0, 0, 0, 1, 1, 0, 1, 0]\n",
            "[0, 0, 0, 0, 0, 0, 0, 1, 0, 1]\n",
            "[0, 0, 0, 0, 0, 0, 0, 0, 1, 0]\n",
            "Imagen del grafo generada: grafo_no_dirigido.png\n"
          ]
        }
      ],
      "source": [
        "# Importamos la librería graphviz\n",
        "from graphviz import Graph\n",
        "\n",
        "class Grafo:\n",
        "    def __init__(self):\n",
        "        # Diccionario para la lista de adyacencia\n",
        "        self.adyacencia = {}\n",
        "\n",
        "    def agregar_vertice(self, vertice):\n",
        "        if vertice not in self.adyacencia:\n",
        "            self.adyacencia[vertice] = []\n",
        "\n",
        "    def agregar_arista(self, vertice1, vertice2):\n",
        "        if vertice1 in self.adyacencia and vertice2 in self.adyacencia:\n",
        "            self.adyacencia[vertice1].append(vertice2)\n",
        "            self.adyacencia[vertice2].append(vertice1)\n",
        "\n",
        "    def remover_vertice(self, vertice):\n",
        "        if vertice in self.adyacencia:\n",
        "            for vecino in self.adyacencia[vertice]:\n",
        "                self.adyacencia[vecino].remove(vertice)\n",
        "            del self.adyacencia[vertice]\n",
        "\n",
        "    def imprimir_matriz_adyacencia(self):\n",
        "        vertices = list(self.adyacencia.keys())\n",
        "        matriz = [[0] * len(vertices) for _ in range(len(vertices))]\n",
        "        for i, vertice1 in enumerate(vertices):\n",
        "            for vertice2 in self.adyacencia[vertice1]:\n",
        "                j = vertices.index(vertice2)\n",
        "                matriz[i][j] = 1\n",
        "        print(\"Matriz de Adyacencia:\")\n",
        "        for fila in matriz:\n",
        "            print(fila)\n",
        "\n",
        "    def imprimir_lista_adyacencia(self):\n",
        "        print(\"Lista de Adyacencia:\")\n",
        "        for vertice, vecinos in self.adyacencia.items():\n",
        "            print(f\"{vertice}: {vecinos}\")\n",
        "\n",
        "    def generar_imagen(self, nombre_archivo=\"grafo\"):\n",
        "        # Crear un nuevo grafo no dirigido\n",
        "        g = Graph(format='png')\n",
        "        for vertice, vecinos in self.adyacencia.items():\n",
        "            for vecino in vecinos:\n",
        "                if vertice < vecino:  # Evitar duplicar aristas en grafo no dirigido\n",
        "                    g.edge(vertice, vecino)\n",
        "        # Guardar y renderizar la imagen del grafo\n",
        "        archivo_salida = f\"{nombre_archivo}\"\n",
        "        g.render(archivo_salida, cleanup=True)\n",
        "        print(f\"Imagen del grafo generada: {archivo_salida}.png\")\n",
        "\n",
        "# Crear una instancia del grafo\n",
        "grafo = Grafo()\n",
        "\n",
        "# Añadir vértices y aristas\n",
        "grafo.agregar_vertice(\"A\")\n",
        "grafo.agregar_vertice(\"B\")\n",
        "grafo.agregar_vertice(\"C\")\n",
        "grafo.agregar_vertice(\"D\")\n",
        "grafo.agregar_vertice(\"E\")\n",
        "grafo.agregar_vertice(\"F\")\n",
        "grafo.agregar_vertice(\"G\")\n",
        "grafo.agregar_vertice(\"H\")\n",
        "grafo.agregar_vertice(\"I\")\n",
        "grafo.agregar_vertice(\"J\")\n",
        "grafo.agregar_arista(\"A\", \"B\")\n",
        "grafo.agregar_arista(\"A\", \"C\")\n",
        "grafo.agregar_arista(\"A\", \"D\")\n",
        "grafo.agregar_arista(\"B\", \"C\")\n",
        "grafo.agregar_arista(\"B\", \"D\")\n",
        "grafo.agregar_arista(\"D\", \"E\")\n",
        "grafo.agregar_arista(\"E\", \"C\")\n",
        "grafo.agregar_arista(\"C\", \"F\")\n",
        "grafo.agregar_arista(\"F\", \"G\")\n",
        "grafo.agregar_arista(\"G\", \"H\")\n",
        "grafo.agregar_arista(\"H\", \"F\")\n",
        "grafo.agregar_arista(\"H\", \"I\")\n",
        "grafo.agregar_arista(\"I\", \"J\")\n",
        "\n",
        "# Imprimir lista de adyacencia y matriz de adyacencia\n",
        "grafo.imprimir_lista_adyacencia()\n",
        "grafo.imprimir_matriz_adyacencia()\n",
        "\n",
        "# Generar la imagen del grafo\n",
        "grafo.generar_imagen(\"grafo_no_dirigido\")\n"
      ]
    }
  ]
}